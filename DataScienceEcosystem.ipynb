{
 "cells": [
  {
   "cell_type": "markdown",
   "id": "b07eb8f9-162e-4ddc-bf67-52fbd63fd949",
   "metadata": {},
   "source": [
    "# Data Science Tools and Ecosystem"
   ]
  },
  {
   "cell_type": "markdown",
   "id": "8919d047-4264-4ba9-87a7-a38353fcb6cf",
   "metadata": {
    "tags": []
   },
   "source": [
    "# In this notebook, Data Science Tools and Ecosystem are summarized."
   ]
  },
  {
   "cell_type": "markdown",
   "id": "30107906-aa1b-4744-a784-1b19f0dbe0a6",
   "metadata": {
    "tags": []
   },
   "source": [
    "# Some of the popular languages that Data Scientists use are:"
   ]
  },
  {
   "cell_type": "markdown",
   "id": "bbbfb00b-d0dd-45b3-a332-12c88a279929",
   "metadata": {},
   "source": [
    "1. Python\n",
    "2. R\n",
    "3. SQL"
   ]
  },
  {
   "cell_type": "markdown",
   "id": "39cab1f4-f7ad-4a0f-aa7c-0a4c074a1925",
   "metadata": {},
   "source": [
    "# Some of the commonly used libraries used by Data Scientists include:"
   ]
  },
  {
   "cell_type": "markdown",
   "id": "ca5a9590-9891-46a8-93dc-7f01d09f31d2",
   "metadata": {},
   "source": [
    "1. TensorFlow\n",
    "2. NumPy\n",
    "3. SciPy\n",
    "4. Pandas\n",
    "5. Matplotlib\n",
    "6. Keras"
   ]
  },
  {
   "cell_type": "markdown",
   "id": "12990167-fbde-4374-a289-e4c3682eb40f",
   "metadata": {},
   "source": [
    "# Objectives:"
   ]
  },
  {
   "cell_type": "markdown",
   "id": "0fe21e34-178f-4c80-b858-779419a63ba4",
   "metadata": {},
   "source": [
    "- Sharing Enterprise Data\n",
    "- Machine Learning Models\n",
    "- Datasets\n",
    "- List popular languages for Data Science"
   ]
  },
  {
   "cell_type": "markdown",
   "id": "9c81c658-b5ff-46d1-8017-9478fe23b780",
   "metadata": {},
   "source": [
    "| Data Science Tools| \n",
    "|:-----------------:|\n",
    "|  RStudio          | \n",
    "|  Tensorflow       |  \n",
    "|  Apache Spark     |"
   ]
  },
  {
   "cell_type": "markdown",
   "id": "cdadb21b-0107-42a7-99e4-0b59ec3cf1ae",
   "metadata": {},
   "source": [
    "### Below are a few examples of evaluating arithmetic expressions in Python"
   ]
  },
  {
   "cell_type": "code",
   "execution_count": 10,
   "id": "a2a1938e-ae4e-4165-a423-a5d941795eed",
   "metadata": {
    "tags": []
   },
   "outputs": [
    {
     "data": {
      "text/plain": [
       "17"
      ]
     },
     "execution_count": 10,
     "metadata": {},
     "output_type": "execute_result"
    }
   ],
   "source": [
    "# This a simple arithmetic expression to mutiply then add integers\n",
    "(3*4)+5"
   ]
  },
  {
   "cell_type": "code",
   "execution_count": 21,
   "id": "9db2b746-b19b-423f-94ff-d936bb616501",
   "metadata": {
    "tags": []
   },
   "outputs": [
    {
     "name": "stdin",
     "output_type": "stream",
     "text": [
      "Input time in minutes:  200\n"
     ]
    },
    {
     "name": "stdout",
     "output_type": "stream",
     "text": [
      "d:h:m:s-> 0:0:3:20\n"
     ]
    }
   ],
   "source": [
    "# This will convert 200 minutes to hours by diving by 60\n",
    "\n",
    "time = float(input(\"Input time in minutes: \"))\n",
    "day = time // (24 * 3600)\n",
    "time = time % (24 * 3600)\n",
    "hour = time // 3600\n",
    "time %= 3600\n",
    "minutes = time // 60\n",
    "time %= 60\n",
    "seconds = time\n",
    "print(\"d:h:m:s-> %d:%d:%d:%d\" % (day, hour, minutes, seconds))"
   ]
  },
  {
   "cell_type": "markdown",
   "id": "cd535c36-291f-44e9-8e22-d93b049d562c",
   "metadata": {},
   "source": [
    "## Author\n",
    "Paul Priest"
   ]
  },
  {
   "cell_type": "code",
   "execution_count": null,
   "id": "88cd81a2-c8cb-4c89-94da-d6745cce55b3",
   "metadata": {},
   "outputs": [],
   "source": []
  }
 ],
 "metadata": {
  "kernelspec": {
   "display_name": "Python",
   "language": "python",
   "name": "conda-env-python-py"
  },
  "language_info": {
   "codemirror_mode": {
    "name": "ipython",
    "version": 3
   },
   "file_extension": ".py",
   "mimetype": "text/x-python",
   "name": "python",
   "nbconvert_exporter": "python",
   "pygments_lexer": "ipython3",
   "version": "3.7.12"
  }
 },
 "nbformat": 4,
 "nbformat_minor": 5
}
